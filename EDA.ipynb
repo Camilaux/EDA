{
 "cells": [
  {
   "cell_type": "markdown",
   "id": "9b375456",
   "metadata": {},
   "source": [
    "# Análisis Exploratio de Datos"
   ]
  },
  {
   "cell_type": "markdown",
   "id": "5f4ea070",
   "metadata": {},
   "source": [
    "### Importar librerías"
   ]
  },
  {
   "cell_type": "code",
   "execution_count": null,
   "id": "e090079d",
   "metadata": {},
   "outputs": [],
   "source": []
  },
  {
   "cell_type": "code",
   "execution_count": null,
   "id": "71d990f4",
   "metadata": {},
   "outputs": [],
   "source": []
  },
  {
   "cell_type": "markdown",
   "id": "319b41eb",
   "metadata": {},
   "source": [
    "# Paso 1: Entendiendo los datos\n",
    "\n",
    "- Dataframe ```shape```\n",
    "- ```head``` y ```tail```\n",
    "- ```dtypes```\n",
    "- ```describe```"
   ]
  },
  {
   "cell_type": "code",
   "execution_count": null,
   "id": "f481c93a",
   "metadata": {},
   "outputs": [],
   "source": []
  },
  {
   "cell_type": "markdown",
   "id": "8bddbd80",
   "metadata": {},
   "source": [
    "Tenemos 475 filas y 10 columnas en nuestro dataframe"
   ]
  },
  {
   "cell_type": "code",
   "execution_count": null,
   "id": "06d3df35",
   "metadata": {},
   "outputs": [],
   "source": []
  },
  {
   "cell_type": "markdown",
   "id": "310e73f8",
   "metadata": {},
   "source": [
    "Por defecto el método ```head``` muestra 5 filas, puedes agregar el número de filas que deseas que te muestra por ejemplo, ```head(20)```, esto mostraría 20 filas."
   ]
  },
  {
   "cell_type": "code",
   "execution_count": null,
   "id": "5a03572b",
   "metadata": {},
   "outputs": [],
   "source": []
  },
  {
   "cell_type": "code",
   "execution_count": null,
   "id": "a74637dd",
   "metadata": {},
   "outputs": [],
   "source": []
  },
  {
   "cell_type": "code",
   "execution_count": null,
   "id": "cf50ffe1",
   "metadata": {},
   "outputs": [],
   "source": []
  },
  {
   "cell_type": "code",
   "execution_count": null,
   "id": "779f0731",
   "metadata": {},
   "outputs": [],
   "source": []
  },
  {
   "cell_type": "code",
   "execution_count": null,
   "id": "edb7e6f1",
   "metadata": {},
   "outputs": [],
   "source": []
  },
  {
   "cell_type": "markdown",
   "id": "131dda3f",
   "metadata": {},
   "source": [
    "# Paso 2: Preparación de los datos\n",
    "\n",
    "- Dropping columnas y filas irrelevantes\n",
    "- Identificar columnas duplicadas\n",
    "- Renombrar columnas\n",
    "- Creación de características"
   ]
  },
  {
   "cell_type": "code",
   "execution_count": null,
   "id": "b27ff61b",
   "metadata": {},
   "outputs": [],
   "source": []
  },
  {
   "cell_type": "code",
   "execution_count": null,
   "id": "32bdd413",
   "metadata": {},
   "outputs": [],
   "source": []
  },
  {
   "cell_type": "code",
   "execution_count": null,
   "id": "d04dd9d0",
   "metadata": {},
   "outputs": [],
   "source": []
  },
  {
   "cell_type": "code",
   "execution_count": null,
   "id": "2bf9a85b",
   "metadata": {},
   "outputs": [],
   "source": []
  },
  {
   "cell_type": "code",
   "execution_count": null,
   "id": "8e946114",
   "metadata": {},
   "outputs": [],
   "source": []
  },
  {
   "cell_type": "code",
   "execution_count": null,
   "id": "763abb7c",
   "metadata": {},
   "outputs": [],
   "source": []
  },
  {
   "cell_type": "code",
   "execution_count": null,
   "id": "5d95e2a1",
   "metadata": {},
   "outputs": [],
   "source": []
  },
  {
   "cell_type": "code",
   "execution_count": null,
   "id": "5636fb0a",
   "metadata": {},
   "outputs": [],
   "source": []
  },
  {
   "cell_type": "code",
   "execution_count": null,
   "id": "b929c63b",
   "metadata": {},
   "outputs": [],
   "source": []
  },
  {
   "cell_type": "markdown",
   "id": "60226a1d",
   "metadata": {},
   "source": [
    "Eliminar valores duplicados"
   ]
  },
  {
   "cell_type": "code",
   "execution_count": null,
   "id": "d5652303",
   "metadata": {},
   "outputs": [],
   "source": []
  },
  {
   "cell_type": "markdown",
   "id": "f9e11f35",
   "metadata": {},
   "source": [
    "# Paso 3: Comprendiendo las características\n",
    "\n",
    "Análisis univariado\n",
    "\n",
    "- Graficar distribuciones de características\n",
    "    - Histograma\n",
    "    - KDE\n",
    "    - Boxplot"
   ]
  },
  {
   "cell_type": "markdown",
   "id": "5a527dd2",
   "metadata": {},
   "source": [
    "### Análisis Ciudades"
   ]
  },
  {
   "cell_type": "code",
   "execution_count": null,
   "id": "3a7a0920",
   "metadata": {},
   "outputs": [],
   "source": []
  },
  {
   "cell_type": "markdown",
   "id": "024c18cf",
   "metadata": {},
   "source": [
    "Se evidencia que la ciudad que más cantidad de propiedades tiene es Medellín, así mismo Bogotá y Cali tienen una considerable cantidad de propiedades. Es importante notar que también tenemos valores nulos que en este caso se conocen como \"desconocida\"."
   ]
  },
  {
   "cell_type": "markdown",
   "id": "c9f3f0a1",
   "metadata": {},
   "source": [
    "### Análisis de precios de propiedades"
   ]
  },
  {
   "cell_type": "markdown",
   "id": "57fe50e3",
   "metadata": {},
   "source": [
    "Para ver el comportamiento de los precios de las propiedades es una buena opción hacer uso de un histograma, ya que:\n",
    "- Podemos ver cómo se distribuyen los precios de las propiedades en el mercado.\n",
    "- Identificamos los rangos de precios más comunes.\n",
    "- Detectamos si hay propiedades con valores atípicamente altos o bajos.\n",
    "- Determinamos si la distribución es simétrica o presenta algún sesgo. "
   ]
  },
  {
   "cell_type": "code",
   "execution_count": null,
   "id": "ed4d4329",
   "metadata": {},
   "outputs": [],
   "source": []
  },
  {
   "cell_type": "code",
   "execution_count": null,
   "id": "1810e93e",
   "metadata": {},
   "outputs": [],
   "source": []
  },
  {
   "cell_type": "markdown",
   "id": "fdadfbd2",
   "metadata": {},
   "source": [
    "El percentil 99 es el valor por debajo del cual se encuentra el 99% de los datos.\n",
    "\n",
    "Esto implica que el 1% restante representa los valores más altos (posiblemente valores atípicos o extremos)."
   ]
  },
  {
   "cell_type": "code",
   "execution_count": null,
   "id": "1c36dff3",
   "metadata": {},
   "outputs": [],
   "source": []
  },
  {
   "cell_type": "markdown",
   "id": "59d22c0a",
   "metadata": {},
   "source": [
    "Vemos que la gráfica está sesgada sobre la derecha, esto nos indica que hay más casas que están valiendo menos de un millón o mil millones"
   ]
  },
  {
   "cell_type": "code",
   "execution_count": null,
   "id": "899efc9c",
   "metadata": {},
   "outputs": [],
   "source": []
  },
  {
   "cell_type": "code",
   "execution_count": null,
   "id": "782f7eff",
   "metadata": {},
   "outputs": [],
   "source": []
  },
  {
   "cell_type": "code",
   "execution_count": null,
   "id": "98496442",
   "metadata": {},
   "outputs": [],
   "source": []
  },
  {
   "cell_type": "code",
   "execution_count": null,
   "id": "1cb420df",
   "metadata": {},
   "outputs": [],
   "source": []
  },
  {
   "cell_type": "code",
   "execution_count": null,
   "id": "7d26e5f8",
   "metadata": {},
   "outputs": [],
   "source": []
  },
  {
   "cell_type": "markdown",
   "id": "08484efe",
   "metadata": {},
   "source": [
    "### Análisis del tipo de propiedad"
   ]
  },
  {
   "cell_type": "code",
   "execution_count": null,
   "id": "7313d98c",
   "metadata": {},
   "outputs": [],
   "source": []
  },
  {
   "cell_type": "markdown",
   "id": "244e0a84",
   "metadata": {},
   "source": [
    "Aquí vemos que el tipo de propiedad más frecuente es la casa en venta, seguido de la bodega en arriendo y apartamento en arriendo."
   ]
  },
  {
   "cell_type": "markdown",
   "id": "2f3aecd8",
   "metadata": {},
   "source": [
    "### Análisis del área de la propiedad"
   ]
  },
  {
   "cell_type": "code",
   "execution_count": null,
   "id": "8a72a68c",
   "metadata": {},
   "outputs": [],
   "source": []
  },
  {
   "cell_type": "code",
   "execution_count": null,
   "id": "32b3e3e0",
   "metadata": {},
   "outputs": [],
   "source": []
  },
  {
   "cell_type": "code",
   "execution_count": null,
   "id": "506c3ecb",
   "metadata": {},
   "outputs": [],
   "source": []
  },
  {
   "cell_type": "markdown",
   "id": "767c6ea2",
   "metadata": {},
   "source": [
    "- Se evidencian valores atípicos siendo el más elevado 18 mil metros cuadrados.\n",
    "- Se observa que 133 propiedades tienen áreas entre 51 a 100 metros cuadrados y 201 a 500 metros cuadrados."
   ]
  },
  {
   "cell_type": "markdown",
   "id": "58e94625",
   "metadata": {},
   "source": [
    "# Paso 4: Relaciones entre características\n",
    "\n",
    "- Scatterplot\n",
    "- Heatmap Correlation\n",
    "- Pairplot\n",
    "- Groupby (comparaciones)"
   ]
  },
  {
   "cell_type": "markdown",
   "id": "148ca1db",
   "metadata": {},
   "source": [
    "## Relación entre área y precio con base al tipo de propiedad"
   ]
  },
  {
   "cell_type": "code",
   "execution_count": null,
   "id": "87e4f2a1",
   "metadata": {},
   "outputs": [],
   "source": []
  },
  {
   "cell_type": "markdown",
   "id": "86787435",
   "metadata": {},
   "source": [
    "Cuando queremos ver la relación entre varias variables a la vez podemos usar pairplot"
   ]
  },
  {
   "cell_type": "code",
   "execution_count": null,
   "id": "aeb5c9cc",
   "metadata": {},
   "outputs": [],
   "source": []
  },
  {
   "cell_type": "markdown",
   "id": "24184641",
   "metadata": {},
   "source": [
    "**¿Qué representa el histograma en la diagonal?**\n",
    "\n",
    "- La frecuencia de ocurrencia de los valores para una sola variable.\n",
    "\n",
    "- Cuántas observaciones caen dentro de cada \"bin\" o intervalo de valor."
   ]
  },
  {
   "cell_type": "markdown",
   "id": "80709f3b",
   "metadata": {},
   "source": [
    "Hay una correlación moderada positiva entre:\n",
    "\n",
    "- Área y Precio: A mayor área, tiende a haber un mayor precio, aunque con mucha dispersión.\n",
    "\n",
    "- Habitaciones y Baños: Propiedades con más habitaciones suelen tener también más baños.\n",
    "\n",
    "Correlación débil entre algunas variables:\n",
    "\n",
    "- Habitaciones y precio no muestran una relación clara. Hay propiedades muy caras con pocas habitaciones, lo que podría indicar propiedades de lujo o comerciales."
   ]
  },
  {
   "cell_type": "code",
   "execution_count": null,
   "id": "c5f2e25b",
   "metadata": {},
   "outputs": [],
   "source": []
  },
  {
   "cell_type": "markdown",
   "id": "be3b776b",
   "metadata": {},
   "source": [
    "**¿Cómo interpretar las distribuciones de la diagonal?**\n",
    "\n",
    "- Forma de la curva:\n",
    "\n",
    "    - Si la curva es alta y estrecha, significa que los valores están muy concentrados en un rango específico.\n",
    "\n",
    "    - Si es ancha o con varias \"jorobas\", indica más dispersión o presencia de subgrupos.\n",
    "\n",
    "- Posición de los picos:\n",
    "\n",
    "    - Dice cuál es el rango de valores más frecuente para cada tipo de propiedad.\n",
    "\n",
    "    - Por ejemplo, si la curva de \"apartamento en arriendo\" está concentrada en áreas pequeñas y precios bajos, se refleja en la gráfica."
   ]
  },
  {
   "cell_type": "markdown",
   "id": "a56b379a",
   "metadata": {},
   "source": [
    "- Distribuciones distintas por tipo de propiedad:\n",
    "\n",
    "    - Las \"casas en venta\" tienden a tener áreas y precios más altos que los otros tipos.\n",
    "\n",
    "    - Las \"bodegas en arriendo\" muestran mucha concentración en precios bajos y áreas grandes, con pocas habitaciones y baños.\n",
    "\n",
    "- Correlación diferenciada:\n",
    "\n",
    "    - Las relaciones entre variables como área y precio, o habitaciones y baños, varían bastante entre tipos de propiedad.\n",
    "\n",
    "    - Por ejemplo, la correlación entre habitaciones y baños parece más fuerte en casas que en bodegas."
   ]
  },
  {
   "cell_type": "markdown",
   "id": "30f74c91",
   "metadata": {},
   "source": [
    "### Correlación"
   ]
  },
  {
   "cell_type": "code",
   "execution_count": null,
   "id": "7337419b",
   "metadata": {},
   "outputs": [],
   "source": []
  },
  {
   "cell_type": "code",
   "execution_count": null,
   "id": "97a9cc7b",
   "metadata": {},
   "outputs": [],
   "source": []
  },
  {
   "cell_type": "markdown",
   "id": "74d2134c",
   "metadata": {},
   "source": [
    "# Paso 5: Preguntas sobre la data\n",
    "\n",
    "- Intenta resolver una pregunta que tenaas sobre los datos haciendo uso de una gráfica o estadísticas\n",
    "\n",
    "Ejemplos:\n",
    "\n",
    "- ¿En qué ciudad están las propiedades más costosas?"
   ]
  },
  {
   "cell_type": "code",
   "execution_count": null,
   "id": "957979b0",
   "metadata": {},
   "outputs": [],
   "source": []
  },
  {
   "cell_type": "markdown",
   "id": "a1c0a369",
   "metadata": {},
   "source": [
    "Recursos adicionales:\n",
    "\n",
    "- Documentación [Pandas](https://pandas.pydata.org/docs/user_guide/index.html)\n",
    "\n",
    "- Documentación [Matplotlib](https://matplotlib.org/stable/users/index.html)\n",
    "\n",
    "- Consulta de paleta de colores seaborn: [seaborn palettes](https://seaborn-pydata-org.translate.goog/tutorial/color_palettes.html?_x_tr_sl=en&_x_tr_tl=es&_x_tr_hl=es&_x_tr_pto=tc)"
   ]
  }
 ],
 "metadata": {
  "kernelspec": {
   "display_name": ".venv",
   "language": "python",
   "name": "python3"
  },
  "language_info": {
   "codemirror_mode": {
    "name": "ipython",
    "version": 3
   },
   "file_extension": ".py",
   "mimetype": "text/x-python",
   "name": "python",
   "nbconvert_exporter": "python",
   "pygments_lexer": "ipython3",
   "version": "3.10.11"
  }
 },
 "nbformat": 4,
 "nbformat_minor": 5
}
